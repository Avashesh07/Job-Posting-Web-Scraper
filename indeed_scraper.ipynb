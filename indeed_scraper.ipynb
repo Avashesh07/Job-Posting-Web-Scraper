{
 "cells": [
  {
   "cell_type": "code",
   "execution_count": 81,
   "metadata": {},
   "outputs": [],
   "source": [
    "# --------- import necessary modules -------\n",
    "import re\n",
    "# For webscraping\n",
    "from bs4 import BeautifulSoup\n",
    "\n",
    "# Parsing and creating xml data\n",
    "from lxml import etree as et\n",
    "\n",
    "# Store data as a csv file written out\n",
    "from csv import writer\n",
    "\n",
    "# In general to use with timing our function calls to Indeed\n",
    "import time\n",
    "\n",
    "# Assist with creating incremental timing for our scraping to seem more human\n",
    "from time import sleep\n",
    "\n",
    "# Dataframe stuff\n",
    "import pandas as pd\n",
    "\n",
    "# Random integer for more realistic timing for clicks, buttons and searches during scraping\n",
    "from random import randint\n",
    "\n",
    "# Multi Threading\n",
    "import threading\n",
    "\n",
    "from googletrans import Translator\n",
    "\n",
    "# Threading:\n",
    "from concurrent.futures import ThreadPoolExecutor, wait\n",
    "\n",
    "from matplotlib import pyplot as plt\n",
    "\n",
    "import seaborn as sns\n"
   ]
  },
  {
   "cell_type": "code",
   "execution_count": 6,
   "metadata": {},
   "outputs": [
    {
     "data": {
      "text/plain": [
       "'4.21.0'"
      ]
     },
     "execution_count": 6,
     "metadata": {},
     "output_type": "execute_result"
    }
   ],
   "source": [
    "import selenium\n",
    "\n",
    "# Check version I am running\n",
    "selenium.__version__"
   ]
  },
  {
   "cell_type": "code",
   "execution_count": 22,
   "metadata": {},
   "outputs": [],
   "source": [
    "# Selenium 4:\n",
    "\n",
    "from selenium import webdriver\n",
    "\n",
    "# Starting/Stopping Driver: can specify ports or location but not remote access\n",
    "from selenium.webdriver.chrome.service import Service as ChromeService\n",
    "\n",
    "# Manages Binaries needed for WebDriver without installing anything directly\n",
    "from webdriver_manager.chrome import ChromeDriverManager\n",
    "\n",
    "\n",
    "from selenium.webdriver.chrome.options import Options\n"
   ]
  },
  {
   "cell_type": "code",
   "execution_count": 8,
   "metadata": {},
   "outputs": [],
   "source": [
    "\n",
    "# Allows searchs similar to beautiful soup: find_all\n",
    "from selenium.webdriver.common.by import By\n",
    "\n",
    "# Try to establish wait times for the page to load\n",
    "from selenium.webdriver.support.ui import WebDriverWait\n",
    "\n",
    "# Wait for specific condition based on defined task: web elements, boolean are examples\n",
    "from selenium.webdriver.support import expected_conditions as EC\n",
    "\n",
    "# Used for keyboard movements, up/down, left/right,delete, etc\n",
    "from selenium.webdriver.common.keys import Keys\n",
    "\n",
    "# Locate elements on page and throw error if they do not exist\n",
    "from selenium.common.exceptions import NoSuchElementException"
   ]
  },
  {
   "cell_type": "code",
   "execution_count": 9,
   "metadata": {},
   "outputs": [],
   "source": [
    "# Allows you to cusotmize: ingonito mode, maximize window size, headless browser, disable certain features, etc\n",
    "option= webdriver.ChromeOptions()\n",
    "\n",
    "# Going undercover:\n",
    "option.add_argument(\"--incognito\")\n",
    "\n",
    "\n",
    "# # Consider this if the application works and you know how it works for speed ups and rendering!\n",
    "\n",
    "# option.add_argument('--headless=chrome')"
   ]
  },
  {
   "cell_type": "code",
   "execution_count": 14,
   "metadata": {},
   "outputs": [],
   "source": [
    "# Define job and location search keywords\n",
    "job_search_keyword = ['Data+Scientist', 'Business+Analyst', 'Data+Engineer', \n",
    "                      'Python+Developer', 'Full+Stack+Developer', \n",
    "                      'Machine+Learning+Engineer']\n",
    "\n",
    "# Define Locations of Interest\n",
    "location_search_keyword = ['New+York', 'California', 'Washington']\n",
    "\n",
    "# Finding location, position, radius=35 miles, sort by date and starting page\n",
    "paginaton_url = 'https://fi.indeed.com/jobs?q={}&l={}&radius=35&filter=0&sort=date&start={}'\n",
    "\n",
    "# print(paginaton_url)"
   ]
  },
  {
   "cell_type": "code",
   "execution_count": 44,
   "metadata": {},
   "outputs": [],
   "source": [
    "# Translation dictionary for Finnish to English\n",
    "# Initialize the translator\n",
    "translator = Translator()\n",
    "\n",
    "def translate_date(finnish_date):\n",
    "    if not finnish_date:  # Check if the text is None or empty\n",
    "        return finnish_date\n",
    "    try:\n",
    "        translation = translator.translate(finnish_date, src='fi', dest='en')\n",
    "        return translation.text\n",
    "    except Exception as e:\n",
    "        print(f\"Translation failed: {e}\")\n",
    "        return finnish_date\n",
    "\n"
   ]
  },
  {
   "cell_type": "code",
   "execution_count": 42,
   "metadata": {},
   "outputs": [
    {
     "ename": "KeyboardInterrupt",
     "evalue": "",
     "output_type": "error",
     "traceback": [
      "\u001b[0;31m---------------------------------------------------------------------------\u001b[0m",
      "\u001b[0;31mKeyboardInterrupt\u001b[0m                         Traceback (most recent call last)",
      "Cell \u001b[0;32mIn[42], line 16\u001b[0m\n\u001b[1;32m     11\u001b[0m driver\u001b[38;5;241m.\u001b[39mget(paginaton_url\u001b[38;5;241m.\u001b[39mformat(job_,location,\u001b[38;5;241m0\u001b[39m))\n\u001b[1;32m     13\u001b[0m \u001b[38;5;66;03m# t = ScrapeThread(url_)\u001b[39;00m\n\u001b[1;32m     14\u001b[0m \u001b[38;5;66;03m# t.start()\u001b[39;00m\n\u001b[0;32m---> 16\u001b[0m \u001b[43msleep\u001b[49m\u001b[43m(\u001b[49m\u001b[43mrandint\u001b[49m\u001b[43m(\u001b[49m\u001b[38;5;241;43m2\u001b[39;49m\u001b[43m,\u001b[49m\u001b[43m \u001b[49m\u001b[38;5;241;43m6\u001b[39;49m\u001b[43m)\u001b[49m\u001b[43m)\u001b[49m\n\u001b[1;32m     18\u001b[0m p\u001b[38;5;241m=\u001b[39mdriver\u001b[38;5;241m.\u001b[39mfind_element(By\u001b[38;5;241m.\u001b[39mCLASS_NAME,\u001b[38;5;124m'\u001b[39m\u001b[38;5;124mjobsearch-JobCountAndSortPane-jobCount\u001b[39m\u001b[38;5;124m'\u001b[39m)\u001b[38;5;241m.\u001b[39mtext\n\u001b[1;32m     20\u001b[0m \u001b[38;5;66;03m# Max number of pages for this search! There is a caveat described soon\u001b[39;00m\n",
      "\u001b[0;31mKeyboardInterrupt\u001b[0m: "
     ]
    }
   ],
   "source": [
    "start = time.time()\n",
    "\n",
    "\n",
    "job_='Data+Scientist'\n",
    "location='Helsinki'\n",
    "\n",
    "driver = webdriver.Chrome(service=ChromeService(ChromeDriverManager().install()),\n",
    "                         options=option)\n",
    "\n",
    "\n",
    "driver.get(paginaton_url.format(job_,location,0))\n",
    "\n",
    "# t = ScrapeThread(url_)\n",
    "# t.start()\n",
    "\n",
    "sleep(randint(2, 6))\n",
    "\n",
    "p=driver.find_element(By.CLASS_NAME,'jobsearch-JobCountAndSortPane-jobCount').text\n",
    "\n",
    "# Max number of pages for this search! There is a caveat described soon\n",
    "max_iter_pgs=int(p.split(' ')[0])//15 \n",
    "\n",
    "\n",
    "driver.quit() # Closing the browser we opened\n",
    "\n",
    "\n",
    "end = time.time()\n",
    "\n",
    "print(end - start,'seconds to complete action!')\n",
    "print('-----------------------')\n",
    "print('Max Iterable Pages for this search:',max_iter_pgs)"
   ]
  },
  {
   "cell_type": "code",
   "execution_count": 82,
   "metadata": {},
   "outputs": [
    {
     "name": "stdout",
     "output_type": "stream",
     "text": [
      "28.67247176170349 seconds to complete Query!\n",
      "Jobs extracted: 65\n",
      "Sample job data: [['Data Scientist, GenAI', 'https://fi.indeed.com/rc/clk?jk=5291449e3eeca8da&bb=qzZPZhUXNeo7kVxLaBUW8J2pUlEoCfj261SO7lfGUOH2fmfuy2Avp1xykotxhLvOyS-2_usX4mgXiWOvYNDRBRx6BeLuU1oL5f4LkEe0yHJOo0X_IMLpvTCH8rbHzXD9&xkcb=SoDi67M3_DVnxBwHN50LbzkdCdPP&fccid=ae78ed73127a3743&vjs=3', 'Futurice GmbH', 'Helsinki', 'Posted\\nPublished more than 30 days ago'], ['Data Scientist', 'https://fi.indeed.com/rc/clk?jk=c648507f65cd2c76&bb=qzZPZhUXNeo7kVxLaBUW8C724mzQ9Kz4mJYhLVSS1hWEiaIFMJYD-J8ME3TwQgEhPV0C73v8vqXFoTBcYFN0hT8A9oigXaTH4H6EblkfDfF9UbZoxmZzMOlsjc3-kuCV&xkcb=SoBW67M3_DVnxBwHN50KbzkdCdPP&fccid=b4bb7d9d2ad507af&vjs=3', 'Posti Group', 'Helsinki', 'Posted\\nPublished 17 days ago'], ['Data Scientist', 'https://fi.indeed.com/rc/clk?jk=974605cf0235867d&bb=qzZPZhUXNeo7kVxLaBUW8Jd7jzVI_YRUegc6vr0R9mxCjAf9ZVTWblDkjrVhPXB9ZcRkFNqjb_Y6I-6slV2CjZg0qMJ4BRFksqlD-VWVIf_p6F5fzUXivdGVmrN8qTj2&xkcb=SoDL67M3_DVnxBwHN50JbzkdCdPP&fccid=f1d1670a4c68804a&vjs=3', 'CSC - Tieteen tietotekniikan keskus Oy', 'Espoo', 'Posted\\nPublished 4 days ago'], ['Data Scientist', 'https://fi.indeed.com/rc/clk?jk=03f91986974ad8ef&bb=qzZPZhUXNeo7kVxLaBUW8Go8BwnI8c_7nD-MYFyk6hlfBL7Y37oT6QVoSsRXZzF3zHQLygaTWU1lSkgBMHKOQze1H9AwW5-hclQFFogGSPRaGjW5k1WWre5rNlhYVDJJ&xkcb=SoB_67M3_DVnxBwHN50IbzkdCdPP&fccid=24cb2ece8228df7a&vjs=3', 'Yousician', 'Helsinki', 'Posted\\nPublished more than 30 days ago'], ['Customer Data Scientist', 'https://fi.indeed.com/rc/clk?jk=599a28819b623347&bb=qzZPZhUXNeo7kVxLaBUW8E3y3xCf7xFbQb8eZShd76syOeHUAj46RKXhtWu1ApVO7SShqvT2nd0dby29vvHCCKr-vbVwxOVtMrDXLDPPaPaeAfyHixUpOvdXqBKo02lS&xkcb=SoDx67M3_DVnxBwHN50PbzkdCdPP&fccid=8e4ee13b6d376b09&vjs=3', 'Sellforte', 'Espoo', 'Posted\\nPublished more than 30 days ago']]\n"
     ]
    }
   ],
   "source": [
    "# Pagination: PRACTICE\n",
    "# Setup Chrome options\n",
    "options = Options()\n",
    "options.headless = True\n",
    "\n",
    "start = time.time()\n",
    "\n",
    "\n",
    "job_='Data+Scientist'\n",
    "location='Helsinki'\n",
    "\n",
    "\n",
    "max_iter_pgs = 5  # Number of pages to iterate\n",
    "\n",
    "job_lst = []\n",
    "salary_list = []\n",
    "\n",
    "driver = webdriver.Chrome(service=ChromeService(ChromeDriverManager().install()), options=options)\n",
    "\n",
    "def get_jobs_from_page(page_number):\n",
    "    driver.get(f\"https://fi.indeed.com/jobs?q={job_}&l={location}&start={page_number * 10}\")\n",
    "    WebDriverWait(driver, 10).until(\n",
    "        EC.presence_of_element_located((By.ID, \"mosaic-jobResults\"))\n",
    "    )\n",
    "    job_page = driver.find_element(By.ID, \"mosaic-jobResults\")\n",
    "    jobs = job_page.find_elements(By.CLASS_NAME, \"job_seen_beacon\")\n",
    "    \n",
    "    for jj in jobs:\n",
    "        job_title = jj.find_element(By.CLASS_NAME, \"jobTitle\")\n",
    "        job_href = job_title.find_element(By.CSS_SELECTOR, \"a\").get_attribute(\"href\")\n",
    "        \n",
    "        try:\n",
    "            company_name = jj.find_element(By.CSS_SELECTOR, \"span[data-testid='company-name']\").text\n",
    "        except NoSuchElementException:\n",
    "            company_name = None\n",
    "\n",
    "        try:\n",
    "            company_location = jj.find_element(By.CSS_SELECTOR, \"div[data-testid='text-location']\").text\n",
    "        except NoSuchElementException:\n",
    "            company_location = None\n",
    "\n",
    "        try:\n",
    "            post_date_text = jj.find_element(By.CSS_SELECTOR, \"span[data-testid='myJobsStateDate']\").text\n",
    "            post_date = translate_date(post_date_text)\n",
    "        except NoSuchElementException:\n",
    "            post_date = None\n",
    "\n",
    "        job_lst.append([job_title.text, job_href, company_name, company_location, post_date])\n",
    "\n",
    "\n",
    "for i in range(max_iter_pgs):\n",
    "    get_jobs_from_page(i)\n",
    "    sleep(randint(2, 4))\n",
    "\n",
    "driver.quit()\n",
    "\n",
    "end = time.time()\n",
    "\n",
    "print(end - start, 'seconds to complete Query!')\n",
    "print(\"Jobs extracted:\", len(job_lst))\n",
    "print(\"Sample job data:\", job_lst[:5])"
   ]
  },
  {
   "cell_type": "code",
   "execution_count": 83,
   "metadata": {},
   "outputs": [],
   "source": [
    "# Define common skills to search for\n",
    "common_skills = [\n",
    "    'Python', 'R', 'SQL', 'Machine Learning', 'Deep Learning', 'NLP', \n",
    "    'Natural Language Processing', 'Computer Vision', 'Data Analysis', \n",
    "    'TensorFlow', 'PyTorch', 'Statistics', 'Big Data', 'Hadoop', 'Spark', \n",
    "    'Tableau', 'Data Visualization', 'Docker', 'Kubernetes', 'Java', \n",
    "    'AWS', 'Azure', 'Google Cloud', 'GCP', 'Data Mining', 'Artificial Intelligence', \n",
    "    'AI', 'ML', 'Data Engineering', 'Data Science', 'ETL', 'Matplotlib', \n",
    "    'Pandas', 'NumPy', 'SciPy', 'Scikit-learn', 'Keras'\n",
    "]\n",
    "\n",
    "def extract_skills_from_description(description):\n",
    "    found_skills = []\n",
    "    for skill in common_skills:\n",
    "        # Create a regex pattern to match whole words only\n",
    "        pattern = r'\\b' + re.escape(skill) + r'\\b'\n",
    "        if re.search(pattern, description, re.IGNORECASE):\n",
    "            found_skills.append(skill)\n",
    "    return found_skills\n",
    "\n",
    "\n",
    "skills_list = []\n"
   ]
  },
  {
   "cell_type": "code",
   "execution_count": 84,
   "metadata": {},
   "outputs": [
    {
     "name": "stdout",
     "output_type": "stream",
     "text": [
      "Sample job data with skills:                  Job Title                                           Job Link  \\\n",
      "0    Data Scientist, GenAI  https://fi.indeed.com/rc/clk?jk=5291449e3eeca8...   \n",
      "1           Data Scientist  https://fi.indeed.com/rc/clk?jk=c648507f65cd2c...   \n",
      "2           Data Scientist  https://fi.indeed.com/rc/clk?jk=974605cf023586...   \n",
      "3           Data Scientist  https://fi.indeed.com/rc/clk?jk=03f91986974ad8...   \n",
      "4  Customer Data Scientist  https://fi.indeed.com/rc/clk?jk=599a28819b6233...   \n",
      "\n",
      "                             Company Name Company Location  \\\n",
      "0                           Futurice GmbH         Helsinki   \n",
      "1                             Posti Group         Helsinki   \n",
      "2  CSC - Tieteen tietotekniikan keskus Oy            Espoo   \n",
      "3                               Yousician         Helsinki   \n",
      "4                               Sellforte            Espoo   \n",
      "\n",
      "                               Date Posted  \\\n",
      "0  Posted\\nPublished more than 30 days ago   \n",
      "1            Posted\\nPublished 17 days ago   \n",
      "2             Posted\\nPublished 4 days ago   \n",
      "3  Posted\\nPublished more than 30 days ago   \n",
      "4  Posted\\nPublished more than 30 days ago   \n",
      "\n",
      "                                              Skills  \n",
      "0  [Python, Machine Learning, NLP, Natural Langua...  \n",
      "1  [Python, Statistics, Spark, Kubernetes, AWS, A...  \n",
      "2  [Python, R, Machine Learning, NLP, Java, Artif...  \n",
      "3  [Python, Machine Learning, Deep Learning, Stat...  \n",
      "4  [Python, Machine Learning, Data Analysis, Spar...  \n"
     ]
    }
   ],
   "source": [
    "# Reinitialize the driver for this part\n",
    "driver = webdriver.Chrome(service=ChromeService(ChromeDriverManager().install()), options=options)\n",
    "\n",
    "for job in job_lst:\n",
    "    job_href = job[1]\n",
    "    driver.get(job_href)\n",
    "    WebDriverWait(driver, 10).until(\n",
    "        EC.presence_of_element_located((By.ID, \"jobDescriptionText\"))\n",
    "    )\n",
    "    try:\n",
    "        job_description = driver.find_element(By.ID, \"jobDescriptionText\").text\n",
    "        skills = extract_skills_from_description(job_description)\n",
    "    except NoSuchElementException:\n",
    "        skills = []\n",
    "\n",
    "    skills_list.append(skills)\n",
    "    sleep(randint(2, 4))\n",
    "\n",
    "driver.quit()\n",
    "\n",
    "# Combine the job list and skills into a DataFrame for easier analysis\n",
    "job_data = pd.DataFrame(job_lst, columns=['Job Title', 'Job Link', 'Company Name', 'Company Location', 'Date Posted'])\n",
    "job_data['Skills'] = skills_list\n",
    "\n",
    "print(\"Sample job data with skills:\", job_data.head())"
   ]
  },
  {
   "cell_type": "code",
   "execution_count": 85,
   "metadata": {},
   "outputs": [],
   "source": [
    "for index, row in job_data.iterrows():\n",
    "    if row['Job Title'] == \"\":\n",
    "        job_data.drop(index, inplace=True)"
   ]
  },
  {
   "cell_type": "code",
   "execution_count": 86,
   "metadata": {},
   "outputs": [
    {
     "data": {
      "image/png": "[encoded data removed]",
      "text/plain": [
       "<Figure size 1200x800 with 1 Axes>"
      ]
     },
     "metadata": {},
     "output_type": "display_data"
    }
   ],
   "source": [
    "# Example dashboard: Count of jobs requiring each skill\n",
    "skills_flattened = [skill for sublist in skills_list for skill in sublist]\n",
    "skills_series = pd.Series(skills_flattened)\n",
    "skills_count = skills_series.value_counts().reset_index()\n",
    "skills_count.columns = ['Skill', 'Count']\n",
    "\n",
    "# Plotting the skill count using seaborn\n",
    "plt.figure(figsize=(12, 8))\n",
    "sns.barplot(x='Count', y='Skill', data=skills_count)\n",
    "plt.title('Count of Jobs Requiring Each Skill')\n",
    "plt.xlabel('Count')\n",
    "plt.ylabel('Skill')\n",
    "plt.show()\n",
    "        "
   ]
  },
  {
   "cell_type": "code",
   "execution_count": 68,
   "metadata": {},
   "outputs": [
    {
     "name": "stdout",
     "output_type": "stream",
     "text": [
      "Data saved to job_data.xlsx\n"
     ]
    }
   ],
   "source": []
  }
 ],
 "metadata": {
  "kernelspec": {
   "display_name": ".venv",
   "language": "python",
   "name": "python3"
  },
  "language_info": {
   "codemirror_mode": {
    "name": "ipython",
    "version": 3
   },
   "file_extension": ".py",
   "mimetype": "text/x-python",
   "name": "python",
   "nbconvert_exporter": "python",
   "pygments_lexer": "ipython3",
   "version": "3.9.7"
  }
 },
 "nbformat": 4,
 "nbformat_minor": 2
}
